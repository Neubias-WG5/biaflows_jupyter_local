{
 "cells": [
  {
   "cell_type": "markdown",
   "metadata": {},
   "source": [
    "# Runnung BIAFLOWS workflows locally"
   ]
  },
  {
   "cell_type": "markdown",
   "metadata": {},
   "source": [
    "## Introduction"
   ]
  },
  {
   "cell_type": "markdown",
   "metadata": {},
   "source": [
    "BIAFLOWS allows to package and run image analysis in a reproducible way. This notebook demonstrates how to run BIAFLOWS image analysis workflows on your own images on your local machine. \n",
    "\n",
    "You need to have Python [Anaconda distribution](https://www.anaconda.com/distribution/#download-section) and [Docker](https://docs.docker.com/install/) installed on your machine. Additionally, the Docker-daemon should be running. "
   ]
  },
  {
   "cell_type": "markdown",
   "metadata": {},
   "source": [
    "## Available workflows"
   ]
  },
  {
   "cell_type": "markdown",
   "metadata": {},
   "source": [
    "The two cells below will display a list of the available workflows. You can find out more about BIAFLOWS at:\n",
    "* [BIAFLOWS web-application](https://biaflows.neubias.org/) provides annotated images and workflows and it can benchmark the workflows online\n",
    "* BIAFLOWS workflows are hosted in [neubiaswg5 organization on Dockerhub](https://hub.docker.com/search?q=neubiaswg5&type=image)\n",
    "* BIAFLOWS workflows source code and configuration files are on [GitHub](https://github.com/orgs/Neubias-WG5/dashboard). "
   ]
  },
  {
   "cell_type": "code",
   "execution_count": null,
   "metadata": {},
   "outputs": [],
   "source": [
    "%%capture biaflowsImages --no-stderr\n",
    "!docker search --no-trunc neubiaswg5 | grep w_\n",
    "lines = str(biaflowsImages).split(\"\\r\\n\")"
   ]
  },
  {
   "cell_type": "code",
   "execution_count": null,
   "metadata": {},
   "outputs": [],
   "source": [
    "import pandas as pd\n",
    "import numpy as np\n",
    "workflows=[]\n",
    "descriptions=[]\n",
    "for line in lines:\n",
    "    if line=='': \n",
    "        continue\n",
    "    parts = line.split(\"  \")\n",
    "    parts = list(filter(lambda a: a != '', parts))\n",
    "    workflows.append(parts[0].split('/')[1])\n",
    "    description = parts[1].lstrip()\n",
    "    if (description=='0'):\n",
    "        description = ''\n",
    "    descriptions.append(description)\n",
    "\n",
    "pd.set_option('display.max_columns', None)  \n",
    "pd.set_option('display.expand_frame_repr', False)\n",
    "pd.set_option('max_colwidth', -1)\n",
    "df = pd.DataFrame(zip(workflows,descriptions), columns=[\"workflow\", \"description\"])\n",
    "df.index = np.arange(1, len(df)+1)\n",
    "display(df)"
   ]
  },
  {
   "cell_type": "markdown",
   "metadata": {},
   "source": [
    "## Running a workflow"
   ]
  },
  {
   "cell_type": "markdown",
   "metadata": {},
   "source": [
    "BIAFLOWS workflows are Docker images and they can be run with ``docker run`` command + workflow Docker image name (as on DockerHub).\n",
    "You need to provide a local folder with two subfolders: **in** (input images) and **out** (results).\n",
    "You can either choose an existing folder or execute the following cell to create the two subfolders."
   ]
  },
  {
   "cell_type": "code",
   "execution_count": null,
   "metadata": {},
   "outputs": [],
   "source": [
    "!mkdir ./data\n",
    "!mkdir ./data/in\n",
    "!mkdir ./data/out"
   ]
  },
  {
   "cell_type": "markdown",
   "metadata": {},
   "source": [
    "In this example we will execute the workflow ``w_nucleisegmentation-imagej`` for 2D nuclei segementation. If you have no compatible images, you can download example images by executing the following cell."
   ]
  },
  {
   "cell_type": "code",
   "execution_count": null,
   "metadata": {},
   "outputs": [],
   "source": [
    "inFolder = \"./data/in\"\n",
    "!cd $inFolder && wget -np -nd -r -l1 -A_Nuc_Sat.tif https://zenodo.org/record/3613710/\n",
    "!cd $inFolder && wget -np -nd -r -l1 -A_Nuc_Norm.tif https://zenodo.org/record/3613710/"
   ]
  },
  {
   "cell_type": "markdown",
   "metadata": {},
   "source": [
    "The workflow has two parameters:\n",
    "* the radius for the Laplacian filter ``ij_radius``\n",
    "* the segmentation threshold ``ij_threshold``\n",
    "You might need to adapt the parameter values to your images.\n",
    "\n",
    "The default parameters of a workflow can be found in the [BIAFLOWS web-application](https://biaflows.neubias.org/) or in the [descriptor.json](https://github.com/Neubias-WG5/W_NucleiSegmentation-ImageJ/blob/master/descriptor.json) file of the workflow on github.\n",
    "\n",
    "The option ``-nmc`` means ``no metrics calculation`` and the switch ``-local`` means that no download from or upload to the BIAFLOWS server is performed (images, annotations, metrics)."
   ]
  },
  {
   "cell_type": "code",
   "execution_count": null,
   "metadata": {},
   "outputs": [],
   "source": [
    "inFolder = \"./data/in\"\n",
    "outFolder = \"./data/out\"\n",
    "!docker run -v $(pwd)/data:/data -it neubiaswg5/w_nucleisegmentation-imagej:1.12.3 \\\n",
    "    --ij_radius 5 \\\n",
    "    --ij_threshold -0.5 \\\n",
    "    --infolder /data/in \\\n",
    "    --outfolder /data/out \\\n",
    "    -nmc \\\n",
    "    --local"
   ]
  },
  {
   "cell_type": "markdown",
   "metadata": {},
   "source": [
    "## Displaying the results"
   ]
  },
  {
   "cell_type": "markdown",
   "metadata": {},
   "source": [
    "### Loading the input and result images"
   ]
  },
  {
   "cell_type": "code",
   "execution_count": null,
   "metadata": {},
   "outputs": [],
   "source": [
    "import os\n",
    "import tifffile\n",
    "files = [i.path for i in os.scandir(inFolder) if i.is_file()]\n",
    "in_paths_sources = [i for i in files if ('.tif' in i) ]\n",
    "sources = []\n",
    "for path in in_paths_sources:\n",
    "    source = tifffile.imread(path)\n",
    "    sources.append(source)\n",
    "\n",
    "outfiles = [i.path for i in os.scandir(outFolder) if i.is_file()]\n",
    "out_paths_sources = [i for i in outfiles if ('.tif' in i) ]\n",
    "outsources = []\n",
    "for path in out_paths_sources:\n",
    "    outsource = tifffile.imread(path)\n",
    "    outsources.append(outsource)"
   ]
  },
  {
   "cell_type": "markdown",
   "metadata": {},
   "source": [
    "### Computing number of nuelcei (per image) from the result masks"
   ]
  },
  {
   "cell_type": "code",
   "execution_count": null,
   "metadata": {},
   "outputs": [],
   "source": [
    "import numpy as np\n",
    "counts = []\n",
    "for image in outsources:\n",
    "    counts.append(len(set(image.flatten()))-1)"
   ]
  },
  {
   "cell_type": "markdown",
   "metadata": {},
   "source": [
    "### Displaying input images, result masks and nuclei counts"
   ]
  },
  {
   "cell_type": "code",
   "execution_count": null,
   "metadata": {},
   "outputs": [],
   "source": [
    "import matplotlib.pyplot as plt\n",
    "for image, result, path, count in zip(sources, outsources, in_paths_sources, counts):\n",
    "\n",
    "    # display results\n",
    "    fig, axes = plt.subplots(1, 2, figsize=(8, 3), sharex=True, sharey=True)\n",
    "    ax = axes.ravel()\n",
    "    ax[0].imshow(image, cmap=plt.cm.gray)\n",
    "    ax[0].axis('off')\n",
    "    ax[0].set_title('Original')\n",
    "\n",
    "    ax[1].imshow(result, cmap=plt.cm.prism)\n",
    "    ax[1].set_title('Indexed Mask')\n",
    "\n",
    "    fig.tight_layout()\n",
    "\n",
    "    plt.show()\n",
    "    \n",
    "    print(path + \" - nr of cells: \", count)"
   ]
  }
 ],
 "metadata": {
  "kernelspec": {
   "display_name": "Python 3",
   "language": "python",
   "name": "python3"
  },
  "language_info": {
   "codemirror_mode": {
    "name": "ipython",
    "version": 3
   },
   "file_extension": ".py",
   "mimetype": "text/x-python",
   "name": "python",
   "nbconvert_exporter": "python",
   "pygments_lexer": "ipython3",
   "version": "3.6.7"
  }
 },
 "nbformat": 4,
 "nbformat_minor": 4
}
