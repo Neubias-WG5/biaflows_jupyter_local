{
 "cells": [
  {
   "cell_type": "markdown",
   "metadata": {},
   "source": [
    "# Runnung BIAFLOWS workflows locally"
   ]
  },
  {
   "cell_type": "markdown",
   "metadata": {},
   "source": [
    "## Introduction"
   ]
  },
  {
   "cell_type": "markdown",
   "metadata": {},
   "source": [
    "BIAFLOWS allows to package and run image analysis in a reproducible way. This notebook demonstrates how to run BIAFLOWS image analysis workflows on your own images on your local machine. \n",
    "\n",
    "You need to have docker installed and the docker-daemon running on your machine. "
   ]
  },
  {
   "cell_type": "markdown",
   "metadata": {},
   "source": [
    "## Available workflows"
   ]
  },
  {
   "cell_type": "markdown",
   "metadata": {},
   "source": [
    "The two cells below will display a list of the available workflows. You can find out more about the workflows at:\n",
    "* The [BIAFLOWS web-application](https://biaflows.neubias.org/) contains data-sets and allows to calculate benchmarks for the workflows.\n",
    "* The workflows are hosted in the [neubiaswg5 organization on Dockerhub](https://hub.docker.com/search?q=neubiaswg5&type=image).\n",
    "* All source code and configuration files are on [GitHub](https://github.com/orgs/Neubias-WG5/dashboard). "
   ]
  },
  {
   "cell_type": "code",
   "execution_count": 50,
   "metadata": {},
   "outputs": [],
   "source": [
    "%%capture biaflowsImages --no-stderr\n",
    "!docker search --no-trunc neubiaswg5 | grep w_\n",
    "lines = str(biaflowsImages).split(\"\\r\\n\")"
   ]
  },
  {
   "cell_type": "code",
   "execution_count": 93,
   "metadata": {},
   "outputs": [
    {
     "data": {
      "text/html": [
       "<div>\n",
       "<style scoped>\n",
       "    .dataframe tbody tr th:only-of-type {\n",
       "        vertical-align: middle;\n",
       "    }\n",
       "\n",
       "    .dataframe tbody tr th {\n",
       "        vertical-align: top;\n",
       "    }\n",
       "\n",
       "    .dataframe thead th {\n",
       "        text-align: right;\n",
       "    }\n",
       "</style>\n",
       "<table border=\"1\" class=\"dataframe\">\n",
       "  <thead>\n",
       "    <tr style=\"text-align: right;\">\n",
       "      <th></th>\n",
       "      <th>workflow</th>\n",
       "      <th>description</th>\n",
       "    </tr>\n",
       "  </thead>\n",
       "  <tbody>\n",
       "    <tr>\n",
       "      <th>1</th>\n",
       "      <td>w_spotdetection-icy</td>\n",
       "      <td>Neubias-WG5 benchmarking worfklow for spot detection using Icy</td>\n",
       "    </tr>\n",
       "    <tr>\n",
       "      <th>2</th>\n",
       "      <td>w_nucleisegmentation-imagej</td>\n",
       "      <td>Segment clustered nuclei using a laplacian filter, thresholding and a binary watershed transform</td>\n",
       "    </tr>\n",
       "    <tr>\n",
       "      <th>3</th>\n",
       "      <td>w_nucleisegmentation-cellprofiler</td>\n",
       "      <td>Automated build for CellProfiler workflow NucleiSegmentation.</td>\n",
       "    </tr>\n",
       "    <tr>\n",
       "      <th>4</th>\n",
       "      <td>w_spotdetection-ij</td>\n",
       "      <td>Docker image for the integration of the ImageJ spot-detection workflow into cytomine.</td>\n",
       "    </tr>\n",
       "    <tr>\n",
       "      <th>5</th>\n",
       "      <td>w_nucleisegmentation3d-imagej</td>\n",
       "      <td>Segment 3D nuclei using Gaussian Blur 3D, thresholding, 3D fill holes and a binary Watershed 3D.</td>\n",
       "    </tr>\n",
       "    <tr>\n",
       "      <th>6</th>\n",
       "      <td>w_nucleisegmentation-maskrcnn</td>\n",
       "      <td>Nuclei segmentation using Mask-RCNN</td>\n",
       "    </tr>\n",
       "    <tr>\n",
       "      <th>7</th>\n",
       "      <td>w_nucleitracking-imagej</td>\n",
       "      <td>Track nuclei in a time series by using 3D object segmentation with watershed</td>\n",
       "    </tr>\n",
       "    <tr>\n",
       "      <th>8</th>\n",
       "      <td>w_filamenttracing3d-imagej</td>\n",
       "      <td>ImageJ macro to trace filaments</td>\n",
       "    </tr>\n",
       "    <tr>\n",
       "      <th>9</th>\n",
       "      <td>w_neurontracing_vaa3d</td>\n",
       "      <td>neuron tracing workflow using vaa3d</td>\n",
       "    </tr>\n",
       "    <tr>\n",
       "      <th>10</th>\n",
       "      <td>w_nucleisegmentation-ilastik</td>\n",
       "      <td>NEUBIAS WG5 nuclei segmentation workflow using ilastik 1.3.2 and Python post-processing.</td>\n",
       "    </tr>\n",
       "    <tr>\n",
       "      <th>11</th>\n",
       "      <td>w_pixcla-unet-glas</td>\n",
       "      <td>Pixel classification for GlaS challenge with UNet</td>\n",
       "    </tr>\n",
       "    <tr>\n",
       "      <th>12</th>\n",
       "      <td>w_landmarkdetect-ml-dmbl-pred</td>\n",
       "      <td></td>\n",
       "    </tr>\n",
       "    <tr>\n",
       "      <th>13</th>\n",
       "      <td>w_spotdetection3d-ij</td>\n",
       "      <td>3D spot detection with ImageJ</td>\n",
       "    </tr>\n",
       "    <tr>\n",
       "      <th>14</th>\n",
       "      <td>w_landmarkdetect-ml-mset-train</td>\n",
       "      <td></td>\n",
       "    </tr>\n",
       "    <tr>\n",
       "      <th>15</th>\n",
       "      <td>w_landmarkdetect-ml-dmbl-train</td>\n",
       "      <td></td>\n",
       "    </tr>\n",
       "    <tr>\n",
       "      <th>16</th>\n",
       "      <td>w_filamenttracing3d_rivuletpy</td>\n",
       "      <td>Filament Tracing workflow Rivuletpy (or Rivulet2) developed by RivuletStudio</td>\n",
       "    </tr>\n",
       "    <tr>\n",
       "      <th>17</th>\n",
       "      <td>w_nucleisegmentation-python</td>\n",
       "      <td>Python script to segment nuclei</td>\n",
       "    </tr>\n",
       "    <tr>\n",
       "      <th>18</th>\n",
       "      <td>w_nucseg3dthr-imagej</td>\n",
       "      <td>Simple global thresholding</td>\n",
       "    </tr>\n",
       "    <tr>\n",
       "      <th>19</th>\n",
       "      <td>w_spotdetection3d-icy</td>\n",
       "      <td>A docker image for the ICY 3D spot detector</td>\n",
       "    </tr>\n",
       "    <tr>\n",
       "      <th>20</th>\n",
       "      <td>w_objecttracking-past-fr</td>\n",
       "      <td>A neubias software for object tracking using PAST FR method</td>\n",
       "    </tr>\n",
       "  </tbody>\n",
       "</table>\n",
       "</div>"
      ],
      "text/plain": [
       "                             workflow                                                                                       description\n",
       "1   w_spotdetection-icy                Neubias-WG5 benchmarking worfklow for spot detection using Icy                                  \n",
       "2   w_nucleisegmentation-imagej        Segment clustered nuclei using a laplacian filter, thresholding and a binary watershed transform\n",
       "3   w_nucleisegmentation-cellprofiler  Automated build for CellProfiler workflow NucleiSegmentation.                                   \n",
       "4   w_spotdetection-ij                 Docker image for the integration of the ImageJ spot-detection workflow into cytomine.           \n",
       "5   w_nucleisegmentation3d-imagej      Segment 3D nuclei using Gaussian Blur 3D, thresholding, 3D fill holes and a binary Watershed 3D.\n",
       "6   w_nucleisegmentation-maskrcnn      Nuclei segmentation using Mask-RCNN                                                             \n",
       "7   w_nucleitracking-imagej            Track nuclei in a time series by using 3D object segmentation with watershed                    \n",
       "8   w_filamenttracing3d-imagej         ImageJ macro to trace filaments                                                                 \n",
       "9   w_neurontracing_vaa3d              neuron tracing workflow using vaa3d                                                             \n",
       "10  w_nucleisegmentation-ilastik       NEUBIAS WG5 nuclei segmentation workflow using ilastik 1.3.2 and Python post-processing.        \n",
       "11  w_pixcla-unet-glas                 Pixel classification for GlaS challenge with UNet                                               \n",
       "12  w_landmarkdetect-ml-dmbl-pred                                                                                                      \n",
       "13  w_spotdetection3d-ij               3D spot detection with ImageJ                                                                   \n",
       "14  w_landmarkdetect-ml-mset-train                                                                                                     \n",
       "15  w_landmarkdetect-ml-dmbl-train                                                                                                     \n",
       "16  w_filamenttracing3d_rivuletpy      Filament Tracing workflow Rivuletpy (or Rivulet2) developed by RivuletStudio                    \n",
       "17  w_nucleisegmentation-python        Python script to segment nuclei                                                                 \n",
       "18  w_nucseg3dthr-imagej               Simple global thresholding                                                                      \n",
       "19  w_spotdetection3d-icy              A docker image for the ICY 3D spot detector                                                     \n",
       "20  w_objecttracking-past-fr           A neubias software for object tracking using PAST FR method                                     "
      ]
     },
     "metadata": {},
     "output_type": "display_data"
    }
   ],
   "source": [
    "import pandas as pd\n",
    "import numpy as np\n",
    "workflows=[]\n",
    "descriptions=[]\n",
    "for line in lines:\n",
    "    if line=='': \n",
    "        continue\n",
    "    parts = line.split(\"  \")\n",
    "    parts = list(filter(lambda a: a != '', parts))\n",
    "    workflows.append(parts[0].split('/')[1])\n",
    "    description = parts[1].lstrip()\n",
    "    if (description=='0'):\n",
    "        description = ''\n",
    "    descriptions.append(description)\n",
    "\n",
    "pd.set_option('display.max_columns', None)  \n",
    "pd.set_option('display.expand_frame_repr', False)\n",
    "pd.set_option('max_colwidth', -1)\n",
    "df = pd.DataFrame(zip(workflows,descriptions), columns=[\"workflow\", \"description\"])\n",
    "df.index = np.arange(1, len(df)+1)\n",
    "display(df)"
   ]
  },
  {
   "cell_type": "markdown",
   "metadata": {},
   "source": [
    "## Running a workflow"
   ]
  },
  {
   "cell_type": "markdown",
   "metadata": {},
   "source": [
    "To run a BIAFLOWS workflow you use the ``docker run`` command with the name of the image on dockerhub.\n",
    "You will provide a folder under which input data is found and the output data is written. This folder must contain two subfolders:\n",
    "* in - for the input images\n",
    "* out - the workflow will write results into this folder\n",
    "\n",
    "You can either choose an existing folder or execute the following cell to create the two folders."
   ]
  },
  {
   "cell_type": "code",
   "execution_count": 95,
   "metadata": {},
   "outputs": [],
   "source": [
    "!mkdir ./data\n",
    "!mkdir ./data/in\n",
    "!mkdir ./data/out"
   ]
  },
  {
   "cell_type": "markdown",
   "metadata": {},
   "source": [
    "In this example we will execute the workflow ``w_nucleisegmentation-imagej`` for nuclei segementation in 2D images. If you do not have fitting input images, you can download example images by executing the following cell."
   ]
  },
  {
   "cell_type": "code",
   "execution_count": null,
   "metadata": {},
   "outputs": [],
   "source": []
  },
  {
   "cell_type": "markdown",
   "metadata": {},
   "source": [
    "The workflow has two parameters:\n",
    "* the radius for the Laplacian filter ``ij_radius``\n",
    "* the segmentation threshold ``ij_threshold``\n",
    "You might need to adapt the parameter values to your images.\n",
    "\n",
    "The parameter of a workflow can be found in the [BIAFLOWS web-application](https://biaflows.neubias.org/) or in the [descriptor.json](https://github.com/Neubias-WG5/W_NucleiSegmentation-ImageJ/blob/master/descriptor.json) file of the workflow on github."
   ]
  },
  {
   "cell_type": "code",
   "execution_count": 106,
   "metadata": {},
   "outputs": [
    {
     "name": "stdout",
     "output_type": "stream",
     "text": [
      "Progress: 0  % ... Status: 2 - 'Initialisation...'\n",
      "Progress: 25 % ... Status:   - 'Launching workflow...'\n",
      "Progress: 90 % ... Status:   - 'Computing and uploading metrics...'\n",
      "Progress: 100% ... Status: 3 - 'Finished.'\n"
     ]
    }
   ],
   "source": [
    "inFolder = \"./data/in\"\n",
    "outFolder = \"./data/out\"\n",
    "!docker run -v $(pwd)/data:/data -it neubiaswg5/w_nucleisegmentation-imagej:1.12.3 \\\n",
    "    --ij_radius 5 \\\n",
    "    --ij_threshold -0.5 \\\n",
    "    --infolder $(pwd)/data/in \\\n",
    "    --outfolder $(pwd)/data/out \\\n",
    "    -nmc \\\n",
    "    --local"
   ]
  },
  {
   "cell_type": "code",
   "execution_count": null,
   "metadata": {},
   "outputs": [],
   "source": []
  }
 ],
 "metadata": {
  "kernelspec": {
   "display_name": "Python 3",
   "language": "python",
   "name": "python3"
  },
  "language_info": {
   "codemirror_mode": {
    "name": "ipython",
    "version": 3
   },
   "file_extension": ".py",
   "mimetype": "text/x-python",
   "name": "python",
   "nbconvert_exporter": "python",
   "pygments_lexer": "ipython3",
   "version": "3.6.7"
  }
 },
 "nbformat": 4,
 "nbformat_minor": 4
}
